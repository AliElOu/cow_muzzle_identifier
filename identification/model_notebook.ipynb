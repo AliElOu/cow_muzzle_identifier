{
    "cells": [
        {
            "cell_type": "markdown",
            "id": "0053e59d",
            "metadata": {},
            "source": [
                "# Import Required Libraries\n",
                "This cell imports necessary libraries for model creation, data preprocessing, and evaluation."
            ]
        },
        {
            "cell_type": "code",
            "execution_count": 1,
            "id": "030b78a7",
            "metadata": {},
            "outputs": [],
            "source": [
                "from tensorflow.keras.applications import VGG16\n",
                "from tensorflow.keras.models import Model\n",
                "from tensorflow.keras.layers import Dense, Flatten, Dropout\n",
                "from tensorflow.keras.optimizers import Adam\n",
                "from tensorflow.keras.preprocessing.image import ImageDataGenerator\n",
                "from tensorflow.keras.preprocessing import image\n",
                "import json\n",
                "import numpy as np\n",
                "from tensorflow.keras.models import load_model\n",
                "import os\n",
                "from glob import glob\n",
                "from sklearn.metrics.pairwise import cosine_similarity\n",
                "from sklearn.metrics import accuracy_score"
            ]
        },
        {
            "cell_type": "markdown",
            "id": "be91b877",
            "metadata": {},
            "source": [
                "# Define Base Model\n",
                "This cell defines the base VGG16 model and adds custom layers for classification."
            ]
        },
        {
            "cell_type": "code",
            "execution_count": 2,
            "id": "86709fe1",
            "metadata": {},
            "outputs": [],
            "source": [
                "base_model = VGG16(weights='imagenet', include_top=False, input_shape=(224, 224, 3))\n",
                "for layer in base_model.layers:\n",
                "    layer.trainable = False\n",
                "\n",
                "x = Flatten()(base_model.output)\n",
                "x = Dense(256, activation='relu')(x)\n",
                "x = Dropout(0.3)(x)\n",
                "x = Dense(268, activation='softmax')(x)\n",
                "\n",
                "model = Model(inputs=base_model.input, outputs=x)\n",
                "model.compile(optimizer=Adam(1e-4), loss='categorical_crossentropy', metrics=['accuracy'])"
            ]
        },
        {
            "cell_type": "markdown",
            "id": "a10fab83",
            "metadata": {},
            "source": [
                "# Data Generators\n",
                "##### Dataset donwloading link : https://universe.roboflow.com/iit-jammu-elhdf/cow-face-2qral"
            ]
        },
        {
            "cell_type": "code",
            "execution_count": 3,
            "id": "e6c2b60d",
            "metadata": {},
            "outputs": [
                {
                    "name": "stdout",
                    "output_type": "stream",
                    "text": [
                        "Found 3330 images belonging to 268 classes.\n",
                        "Found 641 images belonging to 268 classes.\n"
                    ]
                }
            ],
            "source": [
                "from tensorflow.keras.preprocessing.image import ImageDataGenerator\n",
                "\n",
                "train_datagen = ImageDataGenerator(rescale=1./255)\n",
                "val_datagen = ImageDataGenerator(rescale=1./255)\n",
                "\n",
                "train_generator = train_datagen.flow_from_directory(\n",
                "    \"./train\",\n",
                "    target_size=(224, 224),\n",
                "    class_mode='categorical',\n",
                "    batch_size=16\n",
                ")\n",
                "\n",
                "train_classes = train_generator.class_indices.keys()\n",
                "\n",
                "val_generator = val_datagen.flow_from_directory(\n",
                "    \"./valid\",\n",
                "    target_size=(224, 224),\n",
                "    class_mode='categorical',\n",
                "    batch_size=16,\n",
                "    classes=list(train_classes)\n",
                ")\n",
                "\n",
                "num_classes = len(train_generator.class_indices)"
            ]
        },
        {
            "cell_type": "markdown",
            "id": "990ec1de",
            "metadata": {},
            "source": [
                "# Train Model\n",
                "This cell trains the model using the training and validation data.\n"
            ]
        },
        {
            "cell_type": "code",
            "execution_count": 4,
            "id": "92719a91",
            "metadata": {},
            "outputs": [],
            "source": [
                "# model.fit(\n",
                "#       train_generator,\n",
                "#       validation_data=val_generator,\n",
                "#       epochs=50\n",
                "#   )"
            ]
        },
        {
            "cell_type": "markdown",
            "id": "b83be046",
            "metadata": {},
            "source": [
                "# Save Model\n",
                "This cell saves the trained model to a file."
            ]
        },
        {
            "cell_type": "code",
            "execution_count": 5,
            "id": "5abc22bf",
            "metadata": {},
            "outputs": [],
            "source": [
                "# model.save('muzzle.keras')"
            ]
        },
        {
            "cell_type": "markdown",
            "id": "cf5fdea7",
            "metadata": {},
            "source": [
                "# Load Model and Create Embedding Model\n",
                "This cell loads the saved model and creates an embedding model for feature extraction.\n"
            ]
        },
        {
            "cell_type": "code",
            "execution_count": 6,
            "id": "ca9b1d92",
            "metadata": {},
            "outputs": [],
            "source": [
                "model = load_model(\"muzzle.keras\")\n",
                "embedding_model = Model(inputs=model.input, outputs=model.layers[-2].output)"
            ]
        },
        {
            "cell_type": "markdown",
            "id": "7936e571",
            "metadata": {},
            "source": [
                "## Function to return embeddings from a muzzle image"
            ]
        },
        {
            "cell_type": "code",
            "execution_count": 7,
            "id": "4cf3174e",
            "metadata": {},
            "outputs": [],
            "source": [
                "def get_embedding(img_path):\n",
                "    img = image.load_img(img_path, target_size=(224, 224))\n",
                "    img_array = image.img_to_array(img) / 255.0\n",
                "    img_array = np.expand_dims(img_array, axis=0)\n",
                "    embedding = embedding_model.predict(img_array)\n",
                "    return embedding.flatten()"
            ]
        },
        {
            "cell_type": "markdown",
            "id": "449003c8",
            "metadata": {},
            "source": [
                "# Function to build a database that contains the embeddings of each cow "
            ]
        },
        {
            "cell_type": "code",
            "execution_count": 8,
            "id": "7420f794",
            "metadata": {},
            "outputs": [],
            "source": [
                "def build_embedding_database(train_dir=\"./train\"):\n",
                "    database = {\"embeddings\": [], \"labels\": []}\n",
                "    for class_name in os.listdir(train_dir):\n",
                "        class_path = os.path.join(train_dir, class_name)\n",
                "        if not os.path.isdir(class_path): continue\n",
                "        for img_path in glob(os.path.join(class_path, \"*.jpg\")):\n",
                "            emb = get_embedding(img_path)\n",
                "            database[\"embeddings\"].append(emb)\n",
                "            database[\"labels\"].append(class_name)\n",
                "    return database"
            ]
        },
        {
            "cell_type": "markdown",
            "id": "4b40d9db",
            "metadata": {},
            "source": [
                "### Building the database and saving it as a json from"
            ]
        },
        {
            "cell_type": "code",
            "execution_count": 9,
            "id": "f6395ec1",
            "metadata": {},
            "outputs": [],
            "source": [
                "def save_database_as_json(database, filename=\"embedding_database.json\"):\n",
                "    json_ready = {\n",
                "        \"labels\": database[\"labels\"],\n",
                "        \"embeddings\": [emb.tolist() for emb in database[\"embeddings\"]]\n",
                "    }\n",
                "    with open(filename, \"w\") as f:\n",
                "        json.dump(json_ready, f)\n",
                "    print(f\"✅ Base sauvegardée dans {filename}\")\n",
                "\n",
                "def load_database_from_json(filename=\"embedding_database.json\"):\n",
                "    with open(filename, \"r\") as f:\n",
                "        data = json.load(f)\n",
                "    return {\n",
                "        \"labels\": data[\"labels\"],\n",
                "        \"embeddings\": [np.array(emb) for emb in data[\"embeddings\"]]\n",
                "    }"
            ]
        },
        {
            "cell_type": "code",
            "execution_count": 10,
            "id": "75ca6bb5",
            "metadata": {},
            "outputs": [],
            "source": [
                "# database = build_embedding_database(\"./train\")\n",
                "# save_database_as_json(database, filename=\"embedding_database.json\")\n",
                "        # if you saved the dataset already, use this for loading:  \n",
                "database = load_database_from_json(\"embedding_database.json\")"
            ]
        },
        {
            "cell_type": "markdown",
            "id": "d4ff93f4",
            "metadata": {},
            "source": [
                "# Predict Identity\n",
                "This cell defines a function to predict the identity of a cow based on an image and the embedding database.\n"
            ]
        },
        {
            "cell_type": "code",
            "execution_count": 11,
            "id": "2db40899",
            "metadata": {},
            "outputs": [],
            "source": [
                "def predict_identity(img_path, database, seuil=0.7):\n",
                "    query_emb = get_embedding(img_path)\n",
                "    sims = cosine_similarity([query_emb], database[\"embeddings\"])[0]\n",
                "    best_score = np.max(sims)\n",
                "    best_index = np.argmax(sims)\n",
                "    \n",
                "    if best_score < seuil:\n",
                "        return \"INCONNUE\", best_score\n",
                "    else:\n",
                "        return database[\"labels\"][best_index], best_score"
            ]
        },
        {
            "cell_type": "markdown",
            "id": "03ba5fc9",
            "metadata": {},
            "source": [
                "## Model testing on test data"
            ]
        },
        {
            "cell_type": "code",
            "execution_count": 12,
            "id": "a49657f2",
            "metadata": {},
            "outputs": [],
            "source": [
                "def evaluate_on_test_folder(test_dir, database, seuil=0.7):\n",
                "    y_true = []\n",
                "    y_pred = []\n",
                "\n",
                "    for true_label in os.listdir(test_dir):\n",
                "        class_path = os.path.join(test_dir, true_label)\n",
                "        if not os.path.isdir(class_path):\n",
                "            continue\n",
                "\n",
                "        image_paths = glob(os.path.join(class_path, \"*.jpg\"))\n",
                "        for img_path in image_paths:\n",
                "            predicted_label, score = predict_identity(img_path, database, seuil=seuil)\n",
                "\n",
                "            y_true.append(true_label)\n",
                "            y_pred.append(predicted_label)\n",
                "\n",
                "            print(f\"{os.path.basename(img_path)} → vrai: {true_label}, prédit: {predicted_label}, score: {score:.2f}\")\n",
                "\n",
                "    accuracy = accuracy_score(y_true, y_pred)\n",
                "    print(f\"\\n✅ Accuracy sur le dossier de test : {accuracy * 100:.2f}%\")\n",
                "\n",
                "    return accuracy, y_true, y_pred\n"
            ]
        },
        {
            "cell_type": "code",
            "execution_count": 13,
            "id": "176612f0",
            "metadata": {},
            "outputs": [],
            "source": [
                "test_dir = \"./test\"\n",
                "# accuracy, y_true, y_pred = evaluate_on_test_folder(test_dir, database)"
            ]
        },
        {
            "cell_type": "markdown",
            "id": "4af36de4",
            "metadata": {},
            "source": [
                "# Add New Cow to Database\n",
                "This cell defines a function to add a new cow's images to the embedding database."
            ]
        },
        {
            "cell_type": "code",
            "execution_count": 14,
            "id": "521b9dc5",
            "metadata": {},
            "outputs": [],
            "source": [
                "def add_new_cow_to_database(cow_id, image_paths, database):\n",
                "    for img_path in os.listdir(image_paths):\n",
                "        emb = get_embedding(os.path.join(image_paths, img_path))\n",
                "        database[\"embeddings\"].append(emb)\n",
                "        database[\"labels\"].append(cow_id)"
            ]
        },
        {
            "cell_type": "code",
            "execution_count": 18,
            "id": "a884dae2",
            "metadata": {},
            "outputs": [
                {
                    "name": "stdout",
                    "output_type": "stream",
                    "text": [
                        "\u001b[1m1/1\u001b[0m \u001b[32m━━━━━━━━━━━━━━━━━━━━\u001b[0m\u001b[37m\u001b[0m \u001b[1m0s\u001b[0m 179ms/step\n",
                        "\u001b[1m1/1\u001b[0m \u001b[32m━━━━━━━━━━━━━━━━━━━━\u001b[0m\u001b[37m\u001b[0m \u001b[1m0s\u001b[0m 149ms/step\n"
                    ]
                }
            ],
            "source": [
                "add_new_cow_to_database(\"cow_test\", \"./train/cattle_new\", database)"
            ]
        },
        {
            "cell_type": "markdown",
            "id": "2b5c4815",
            "metadata": {},
            "source": [
                "## To make an individial prediction"
            ]
        },
        {
            "cell_type": "code",
            "execution_count": 20,
            "id": "c1f46ff6",
            "metadata": {},
            "outputs": [
                {
                    "name": "stdout",
                    "output_type": "stream",
                    "text": [
                        "\u001b[1m1/1\u001b[0m \u001b[32m━━━━━━━━━━━━━━━━━━━━\u001b[0m\u001b[37m\u001b[0m \u001b[1m0s\u001b[0m 159ms/step\n",
                        "🧠 Vache prédite : cow_test (confiance : 0.92)\n"
                    ]
                }
            ],
            "source": [
                "img_path = \"test/cattle_new/cropped_3.jpg\"\n",
                "label, score = predict_identity(img_path, database)\n",
                "\n",
                "print(f\"🧠 Vache prédite : {label} (confiance : {score:.2f})\")"
            ]
        }
    ],
    "metadata": {
        "kernelspec": {
            "display_name": "Python 3",
            "language": "python",
            "name": "python3"
        },
        "language_info": {
            "codemirror_mode": {
                "name": "ipython",
                "version": 3
            },
            "file_extension": ".py",
            "mimetype": "text/x-python",
            "name": "python",
            "nbconvert_exporter": "python",
            "pygments_lexer": "ipython3",
            "version": "3.12.3"
        }
    },
    "nbformat": 4,
    "nbformat_minor": 5
}
